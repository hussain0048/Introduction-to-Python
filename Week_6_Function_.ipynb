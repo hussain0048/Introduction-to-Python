{
  "nbformat": 4,
  "nbformat_minor": 0,
  "metadata": {
    "colab": {
      "name": "Week 6 Function .ipynb",
      "version": "0.3.2",
      "provenance": [],
      "include_colab_link": true
    },
    "kernelspec": {
      "name": "python3",
      "display_name": "Python 3"
    }
  },
  "cells": [
    {
      "cell_type": "markdown",
      "metadata": {
        "id": "view-in-github",
        "colab_type": "text"
      },
      "source": [
        "<a href=\"https://colab.research.google.com/github/hussain0048/Introduction-to-Python/blob/master/Week_6_Function_.ipynb\" target=\"_parent\"><img src=\"https://colab.research.google.com/assets/colab-badge.svg\" alt=\"Open In Colab\"/></a>"
      ]
    },
    {
      "cell_type": "code",
      "metadata": {
        "id": "TrmPrv4pv7Ab",
        "colab_type": "code",
        "colab": {}
      },
      "source": [
        "# Def function \n",
        "def thing ():\n",
        "  print('hello')\n",
        "  print('fun')\n",
        "  \n",
        "  \n",
        "\n",
        "  \n"
      ],
      "execution_count": 0,
      "outputs": []
    },
    {
      "cell_type": "code",
      "metadata": {
        "id": "1ISyzDh7wkYr",
        "colab_type": "code",
        "colab": {}
      },
      "source": [
        "# function call\n",
        "thing ()\n"
      ],
      "execution_count": 0,
      "outputs": []
    }
  ]
}