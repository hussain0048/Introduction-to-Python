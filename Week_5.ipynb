{
  "nbformat": 4,
  "nbformat_minor": 0,
  "metadata": {
    "colab": {
      "name": "Week 5.ipynb",
      "version": "0.3.2",
      "provenance": [],
      "collapsed_sections": [],
      "include_colab_link": true
    },
    "kernelspec": {
      "name": "python3",
      "display_name": "Python 3"
    }
  },
  "cells": [
    {
      "cell_type": "markdown",
      "metadata": {
        "id": "view-in-github",
        "colab_type": "text"
      },
      "source": [
        "<a href=\"https://colab.research.google.com/github/hussain0048/Introduction-to-Python/blob/master/Week_5.ipynb\" target=\"_parent\"><img src=\"https://colab.research.google.com/assets/colab-badge.svg\" alt=\"Open In Colab\"/></a>"
      ]
    },
    {
      "cell_type": "code",
      "metadata": {
        "id": "7G_Krsnp0Uug",
        "colab_type": "code",
        "outputId": "d693617c-45ef-49cb-958d-4e73284f8077",
        "colab": {
          "base_uri": "https://localhost:8080/",
          "height": 119
        }
      },
      "source": [
        "\n",
        "!git clone https://github.com/hussain0048/Introduction-to-Python.git"
      ],
      "execution_count": 0,
      "outputs": [
        {
          "output_type": "stream",
          "text": [
            "Cloning into 'Introduction-to-Python'...\n",
            "remote: Enumerating objects: 69, done.\u001b[K\n",
            "remote: Counting objects: 100% (69/69), done.\u001b[K\n",
            "remote: Compressing objects: 100% (63/63), done.\u001b[K\n",
            "remote: Total 69 (delta 31), reused 0 (delta 0), pack-reused 0\u001b[K\n",
            "Unpacking objects: 100% (69/69), done.\n"
          ],
          "name": "stdout"
        }
      ]
    },
    {
      "cell_type": "code",
      "metadata": {
        "id": "dccoTfYtpj8F",
        "colab_type": "code",
        "colab": {}
      },
      "source": [
        "X=5\n",
        "print('Before 5')\n",
        "if X==5:\n",
        "  print('is 5')\n",
        "  print('is still 5')\n",
        "print('after 5')"
      ],
      "execution_count": 0,
      "outputs": []
    },
    {
      "cell_type": "code",
      "metadata": {
        "id": "mYfcPSbErSoi",
        "colab_type": "code",
        "colab": {
          "base_uri": "https://localhost:8080/",
          "height": 51
        },
        "outputId": "8cb3cd98-2ad4-4d1b-d1ce-486cf7f614bd"
      },
      "source": [
        "# Multi way \n",
        "x=5\n",
        "if x<2:\n",
        "  print('small')\n",
        "elif x<10:\n",
        "  print('medium')\n",
        "else: \n",
        "  print('laverage')\n",
        "print('all is don')"
      ],
      "execution_count": 4,
      "outputs": [
        {
          "output_type": "stream",
          "text": [
            "medium\n",
            "all is don\n"
          ],
          "name": "stdout"
        }
      ]
    }
  ]
}