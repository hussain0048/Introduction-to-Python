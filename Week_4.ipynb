{
  "nbformat": 4,
  "nbformat_minor": 0,
  "metadata": {
    "colab": {
      "name": "Week 4.ipynb",
      "version": "0.3.2",
      "provenance": [],
      "include_colab_link": true
    },
    "kernelspec": {
      "name": "python3",
      "display_name": "Python 3"
    }
  },
  "cells": [
    {
      "cell_type": "markdown",
      "metadata": {
        "id": "view-in-github",
        "colab_type": "text"
      },
      "source": [
        "<a href=\"https://colab.research.google.com/github/hussain0048/Introduction-to-Python/blob/master/Week_4.ipynb\" target=\"_parent\"><img src=\"https://colab.research.google.com/assets/colab-badge.svg\" alt=\"Open In Colab\"/></a>"
      ]
    },
    {
      "cell_type": "code",
      "metadata": {
        "id": "kaqO0PvWJUnU",
        "colab_type": "code",
        "colab": {}
      },
      "source": [
        "print(123) # numeric constant"
      ],
      "execution_count": 0,
      "outputs": []
    },
    {
      "cell_type": "code",
      "metadata": {
        "id": "jlwbPL1GdF_C",
        "colab_type": "code",
        "colab": {}
      },
      "source": [
        "print('hello') # string constant"
      ],
      "execution_count": 0,
      "outputs": []
    },
    {
      "cell_type": "code",
      "metadata": {
        "id": "6g4aAR-SeJ61",
        "colab_type": "code",
        "colab": {}
      },
      "source": [
        "#=============variable name rules====\n",
        "# must start with a letter or underscore \n",
        "#must consist of letter , numbers and underscores \n",
        "#case sensitive \n",
        "X=1.2 # \n",
        "Y=3\n"
      ],
      "execution_count": 0,
      "outputs": []
    }
  ]
}